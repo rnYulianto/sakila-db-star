{
 "cells": [
  {
   "cell_type": "code",
   "execution_count": 1,
   "id": "e3d6e574-f3cf-47f4-8d45-058546555e97",
   "metadata": {},
   "outputs": [],
   "source": [
    "from mysql.connector import connect\n",
    "import pandas as pd"
   ]
  },
  {
   "cell_type": "code",
   "execution_count": 19,
   "id": "2f475bbd-9dec-42a0-ac48-57762a24f612",
   "metadata": {},
   "outputs": [],
   "source": [
    "conn = connect(\n",
    "    host='db',\n",
    "    database='sakila',\n",
    "    username='root',\n",
    "    password='root_pass'\n",
    ")"
   ]
  },
  {
   "cell_type": "code",
   "execution_count": 34,
   "id": "8dce8736-932a-4778-a3e3-c310ed7f8096",
   "metadata": {},
   "outputs": [],
   "source": [
    "# Lets try query top grossing movie rating\n",
    "\n",
    "origin_sql = '''\n",
    "SELECT\n",
    "    rating,\n",
    "    sum(amount) as total_sale\n",
    "From(\n",
    "        Select\n",
    "            f.rating,\n",
    "            P.amount\n",
    "        From\n",
    "            payment P\n",
    "            INNER JOIN rental r ON (P.rental_id = r.rental_id)\n",
    "            INNER JOIN inventory I ON (I.inventory_id = r.inventory_id)\n",
    "            INNER JOIN film f ON (I.film_id = f.film_id)\n",
    "    ) as L\n",
    "GROUP BY\n",
    "    rating\n",
    "ORDER BY\n",
    "    total_sale DESC\n",
    "'''\n",
    "\n",
    "star_sql = '''\n",
    "SELECT\n",
    "    rating,\n",
    "    sum(sales_amount) as total_sale\n",
    "FROM\n",
    "    fact_sales fs\n",
    "    INNER JOIN dimMovie dm ON (fs.movie_key = dm.movie_key)\n",
    "GROUP BY\n",
    "    rating\n",
    "ORDER BY\n",
    "    total_sale DESC\n",
    "'''"
   ]
  },
  {
   "cell_type": "code",
   "execution_count": 41,
   "id": "13e029c8-9228-4037-b6a2-09e59c0d0b83",
   "metadata": {},
   "outputs": [
    {
     "name": "stdout",
     "output_type": "stream",
     "text": [
      "69.6 ms ± 10.9 ms per loop (mean ± std. dev. of 7 runs, 10 loops each)\n"
     ]
    }
   ],
   "source": [
    "%%timeit\n",
    "pd.read_sql(origin_sql, conn)"
   ]
  },
  {
   "cell_type": "code",
   "execution_count": 42,
   "id": "b49a3dfb-0cca-4cd2-b4eb-c220cdd8a82d",
   "metadata": {},
   "outputs": [
    {
     "name": "stdout",
     "output_type": "stream",
     "text": [
      "31.4 ms ± 7.97 ms per loop (mean ± std. dev. of 7 runs, 10 loops each)\n"
     ]
    }
   ],
   "source": [
    "%%timeit\n",
    "pd.read_sql(star_sql, conn)"
   ]
  },
  {
   "cell_type": "code",
   "execution_count": 43,
   "id": "7b329a9f-8924-4a85-83e8-53d637a9ea29",
   "metadata": {},
   "outputs": [
    {
     "data": {
      "text/html": [
       "<div>\n",
       "<style scoped>\n",
       "    .dataframe tbody tr th:only-of-type {\n",
       "        vertical-align: middle;\n",
       "    }\n",
       "\n",
       "    .dataframe tbody tr th {\n",
       "        vertical-align: top;\n",
       "    }\n",
       "\n",
       "    .dataframe thead th {\n",
       "        text-align: right;\n",
       "    }\n",
       "</style>\n",
       "<table border=\"1\" class=\"dataframe\">\n",
       "  <thead>\n",
       "    <tr style=\"text-align: right;\">\n",
       "      <th></th>\n",
       "      <th>rating</th>\n",
       "      <th>total_sale</th>\n",
       "    </tr>\n",
       "  </thead>\n",
       "  <tbody>\n",
       "    <tr>\n",
       "      <th>0</th>\n",
       "      <td>PG-13</td>\n",
       "      <td>15259.16</td>\n",
       "    </tr>\n",
       "    <tr>\n",
       "      <th>1</th>\n",
       "      <td>NC-17</td>\n",
       "      <td>13875.07</td>\n",
       "    </tr>\n",
       "    <tr>\n",
       "      <th>2</th>\n",
       "      <td>PG</td>\n",
       "      <td>13337.91</td>\n",
       "    </tr>\n",
       "    <tr>\n",
       "      <th>3</th>\n",
       "      <td>R</td>\n",
       "      <td>13270.19</td>\n",
       "    </tr>\n",
       "    <tr>\n",
       "      <th>4</th>\n",
       "      <td>G</td>\n",
       "      <td>11664.23</td>\n",
       "    </tr>\n",
       "  </tbody>\n",
       "</table>\n",
       "</div>"
      ],
      "text/plain": [
       "  rating  total_sale\n",
       "0  PG-13    15259.16\n",
       "1  NC-17    13875.07\n",
       "2     PG    13337.91\n",
       "3      R    13270.19\n",
       "4      G    11664.23"
      ]
     },
     "execution_count": 43,
     "metadata": {},
     "output_type": "execute_result"
    }
   ],
   "source": [
    "# Lets see the result of the query for origin database\n",
    "pd.read_sql(origin_sql, conn)"
   ]
  },
  {
   "cell_type": "code",
   "execution_count": 44,
   "id": "9ee7ba77-9f2f-467e-b787-2a7f1194534a",
   "metadata": {},
   "outputs": [
    {
     "data": {
      "text/html": [
       "<div>\n",
       "<style scoped>\n",
       "    .dataframe tbody tr th:only-of-type {\n",
       "        vertical-align: middle;\n",
       "    }\n",
       "\n",
       "    .dataframe tbody tr th {\n",
       "        vertical-align: top;\n",
       "    }\n",
       "\n",
       "    .dataframe thead th {\n",
       "        text-align: right;\n",
       "    }\n",
       "</style>\n",
       "<table border=\"1\" class=\"dataframe\">\n",
       "  <thead>\n",
       "    <tr style=\"text-align: right;\">\n",
       "      <th></th>\n",
       "      <th>rating</th>\n",
       "      <th>total_sale</th>\n",
       "    </tr>\n",
       "  </thead>\n",
       "  <tbody>\n",
       "    <tr>\n",
       "      <th>0</th>\n",
       "      <td>PG-13</td>\n",
       "      <td>15259.159616</td>\n",
       "    </tr>\n",
       "    <tr>\n",
       "      <th>1</th>\n",
       "      <td>NC-17</td>\n",
       "      <td>13875.069640</td>\n",
       "    </tr>\n",
       "    <tr>\n",
       "      <th>2</th>\n",
       "      <td>PG</td>\n",
       "      <td>13337.909667</td>\n",
       "    </tr>\n",
       "    <tr>\n",
       "      <th>3</th>\n",
       "      <td>R</td>\n",
       "      <td>13270.189666</td>\n",
       "    </tr>\n",
       "    <tr>\n",
       "      <th>4</th>\n",
       "      <td>G</td>\n",
       "      <td>11664.229721</td>\n",
       "    </tr>\n",
       "  </tbody>\n",
       "</table>\n",
       "</div>"
      ],
      "text/plain": [
       "  rating    total_sale\n",
       "0  PG-13  15259.159616\n",
       "1  NC-17  13875.069640\n",
       "2     PG  13337.909667\n",
       "3      R  13270.189666\n",
       "4      G  11664.229721"
      ]
     },
     "execution_count": 44,
     "metadata": {},
     "output_type": "execute_result"
    }
   ],
   "source": [
    "# Now for star schema\n",
    "pd.read_sql(star_sql, conn)"
   ]
  },
  {
   "cell_type": "markdown",
   "id": "9de09372-9852-4cea-a8c1-e3d38e3c181e",
   "metadata": {},
   "source": [
    "With only 10 loop on simple query in we already see the diference on performance between Original database and Star Schema, Query on Star Schema run 2 times faster than on the origin Database as the Star schema need fewer join the achieve same result. "
   ]
  }
 ],
 "metadata": {
  "kernelspec": {
   "display_name": "Python 3 (ipykernel)",
   "language": "python",
   "name": "python3"
  },
  "language_info": {
   "codemirror_mode": {
    "name": "ipython",
    "version": 3
   },
   "file_extension": ".py",
   "mimetype": "text/x-python",
   "name": "python",
   "nbconvert_exporter": "python",
   "pygments_lexer": "ipython3",
   "version": "3.7.13"
  }
 },
 "nbformat": 4,
 "nbformat_minor": 5
}
